{
 "cells": [
  {
   "cell_type": "markdown",
   "metadata": {},
   "source": [
    "# RADIS In-The-Browser\n",
    "\n",
    "For any help, refer to [RADIS documentation](https://radis.readthedocs.io) \n",
    "\n",
    "In particular, see: [calc_spectrum](https://radis.readthedocs.io/en/latest/source/radis.lbl.calc.html#radis.lbl.calc.calc_spectrum), [Spectrum](https://radis.readthedocs.io/en/latest/source/radis.spectrum.spectrum.html#radis.spectrum.spectrum.Spectrum), [SpectrumFactory](https://radis.readthedocs.io/en/latest/source/radis.lbl.factory.html#radis.lbl.factory.SpectrumFactory), [plot_diff](https://radis.readthedocs.io/en/latest/source/radis.spectrum.compare.html#radis.spectrum.compare.plot_diff) \n",
    "\n",
    "---"
   ]
  },
  {
   "cell_type": "code",
   "execution_count": null,
   "metadata": {},
   "outputs": [],
   "source": [
    "%matplotlib inline\n",
    "from radis import calc_spectrum, Spectrum, plot_diff, get_version\n",
    "from astropy import units as u",
    "print('RADIS version', get_version())\n",
    "\n",
    "# A first example. \n",
    "s = calc_spectrum(1900 / u.cm, 2300 / u.cm,\n",
    "                  molecule='CO',\n",
    "                  isotope='1,2,3',\n",
    "                  pressure=1.01325 * u.bar,\n",
    "                  Tgas=1000 * u.K,\n",
    "                  mole_fraction=0.1,\n",
    "                  path_length=1 * u.cm\n",
    "                  )\n",
    "s.apply_slit(0.5, 'nm')\n",
    "s.plot('transmittance')",
    "\n",
    "# Update, or add your code below\n",
    "# ... "
   ]
  }
 ],
 "metadata": {
  "kernelspec": {
   "display_name": "Python 3",
   "language": "python",
   "name": "python3"
  },
  "language_info": {
   "codemirror_mode": {
    "name": "ipython",
    "version": 3
   },
   "file_extension": ".py",
   "mimetype": "text/x-python",
   "name": "python",
   "nbconvert_exporter": "python",
   "pygments_lexer": "ipython3",
   "version": "3.6.6"
  }
 },
 "nbformat": 4,
 "nbformat_minor": 2
}
